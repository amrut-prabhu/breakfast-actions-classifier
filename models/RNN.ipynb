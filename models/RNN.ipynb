{
 "cells": [
  {
   "cell_type": "code",
   "execution_count": 0,
   "metadata": {
    "colab": {},
    "colab_type": "code",
    "id": "JhBRzr4cAfMk"
   },
   "outputs": [],
   "source": [
    "\"\"\" Paste the function in the console to keep Colab active to prevent timeout.\n",
    "\n",
    "function ClickConnect(){console.log(\"Working\");document.querySelector(\"colab-toolbar-button#connect\").click()}setInterval(ClickConnect,60000)\n",
    "\n",
    "function ClickConnect(){console.log(\"Working\");document.querySelector(\"#private-outputs-warning\").click()}setInterval(ClickConnect,60000)\n",
    "\"\"\""
   ]
  },
  {
   "cell_type": "code",
   "execution_count": 1,
   "metadata": {
    "colab": {
     "base_uri": "https://localhost:8080/",
     "height": 121
    },
    "colab_type": "code",
    "id": "JRgz3AuaStp4",
    "outputId": "b445678a-8c4e-4956-97bf-5a812d08fcab"
   },
   "outputs": [
    {
     "name": "stdout",
     "output_type": "stream",
     "text": [
      "Go to this URL in a browser: https://accounts.google.com/o/oauth2/auth?client_id=947318989803-6bn6qk8qdgf4n4g3pfee6491hc0brc4i.apps.googleusercontent.com&redirect_uri=urn%3aietf%3awg%3aoauth%3a2.0%3aoob&response_type=code&scope=email%20https%3a%2f%2fwww.googleapis.com%2fauth%2fdocs.test%20https%3a%2f%2fwww.googleapis.com%2fauth%2fdrive%20https%3a%2f%2fwww.googleapis.com%2fauth%2fdrive.photos.readonly%20https%3a%2f%2fwww.googleapis.com%2fauth%2fpeopleapi.readonly\n",
      "\n",
      "Enter your authorization code:\n",
      "··········\n",
      "Mounted at /content/drive/\n"
     ]
    }
   ],
   "source": [
    "from google.colab import drive\n",
    "drive.mount('/content/drive/', force_remount=False)\n",
    "\n",
    "!ls \"/content/drive/My Drive\""
   ]
  },
  {
   "cell_type": "markdown",
   "metadata": {},
   "source": [
    "## Import Common Packages"
   ]
  },
  {
   "cell_type": "code",
   "execution_count": 196,
   "metadata": {},
   "outputs": [],
   "source": [
    "import pandas as pd\n",
    "import numpy as np\n",
    "\n",
    "import _pickle as pickle\n",
    "from collections import Counter\n",
    "from pprint import pprint\n",
    "from datetime import datetime\n",
    "import shutil\n",
    "\n",
    "import matplotlib.pyplot as plt\n",
    "%matplotlib inline\n",
    "import seaborn as sns"
   ]
  },
  {
   "cell_type": "markdown",
   "metadata": {
    "colab_type": "text",
    "id": "Pr7VTg_TJAUN"
   },
   "source": [
    "## ~~Loading from training data directory (supports batch mode)~~"
   ]
  },
  {
   "cell_type": "code",
   "execution_count": 197,
   "metadata": {
    "colab": {},
    "colab_type": "code",
    "id": "6P5xkIhbA4pA"
   },
   "outputs": [],
   "source": [
    "# import torch\n",
    "# from torch.utils.data import Dataset, DataLoader\n",
    "# from torchvision.datasets import DatasetFolder"
   ]
  },
  {
   "cell_type": "code",
   "execution_count": 0,
   "metadata": {
    "colab": {},
    "colab_type": "code",
    "id": "fdi9dI_fA8oO"
   },
   "outputs": [],
   "source": [
    "# TRAIN_DIR = '../training_data/'"
   ]
  },
  {
   "cell_type": "code",
   "execution_count": 0,
   "metadata": {
    "colab": {},
    "colab_type": "code",
    "id": "-904J2zJBARp"
   },
   "outputs": [],
   "source": [
    "# from torch.utils.data import Dataset, DataLoader\n",
    "# from torchvision.datasets import DatasetFolder\n",
    "\n",
    "# def pickle_loader(input_path):\n",
    "#     f = open(input_path, 'rb')\n",
    "#     data = pickle.load(f)\n",
    "\n",
    "#     return { 'segment': data[0], 'label': data[1] }\n",
    "# #     return data[0], data[1]\n",
    "\n",
    "\n",
    "# # TODO: decide on what transformation to perform\n",
    "# def transform_input(input):\n",
    "#     \"\"\"\n",
    "#     Transform input so that all input samples in the batch have same size.\n",
    "#     Note: this is not required if the batch size is 1 for the data loader.\n",
    "#     \"\"\"\n",
    "#     num_frames = 3\n",
    "    \n",
    "#     return { 'segment': input['segment'][:num_frames], 'label': input['label'] }\n",
    "# #     return input[:num_frames]"
   ]
  },
  {
   "cell_type": "code",
   "execution_count": 0,
   "metadata": {
    "colab": {},
    "colab_type": "code",
    "id": "E8-STx19BJnm"
   },
   "outputs": [],
   "source": [
    "# # https://pytorch.org/docs/stable/torchvision/datasets.html#datasetfolder\n",
    "# # Directory should be 'TRAIN_DIR/data/*.doc'\n",
    "# train_data = DatasetFolder(root=TRAIN_DIR, \n",
    "#                            loader=pickle_loader, \n",
    "#                            extensions='.doc', \n",
    "#                            transform=transform_input\n",
    "#                           )\n",
    "\n",
    "# train_loader = torch.utils.data.DataLoader(dataset=train_data,\n",
    "#                                            batch_size=4,\n",
    "#                                            num_workers=0,\n",
    "#                                            shuffle=False\n",
    "#                                           )\n",
    "\n",
    "# for batch_idx, batch_data in enumerate(train_loader):\n",
    "#     input_samples = batch_data[0]['segment'] # Same length as batch size\n",
    "#     input_labels = batch_data[0]['label']\n",
    "\n",
    "# #     x = Variable(input_samples)\n",
    "# #     out = model(x)\n",
    "# # https://stanford.edu/~shervine/blog/pytorch-how-to-generate-data-parallel"
   ]
  },
  {
   "cell_type": "markdown",
   "metadata": {
    "colab_type": "text",
    "id": "6faLsCwUI7CD"
   },
   "source": [
    "## Loading from single training data file"
   ]
  },
  {
   "cell_type": "code",
   "execution_count": 195,
   "metadata": {
    "colab": {},
    "colab_type": "code",
    "id": "JYUwZwX8Kroq"
   },
   "outputs": [],
   "source": [
    "ROOR_DIR = \"/content/drive/My Drive/\" # \"../\"\n",
    "\n",
    "DATA_DIR = ROOR_DIR\n",
    "RESULTS_DIR = ROOR_DIR + \"results/\"\n",
    "\n",
    "TRAINING_DATA = DATA_DIR + \"training_data.p\"\n",
    "VALIDATION_DATA = DATA_DIR + \"validation_data.p\"\n",
    "TEST_DATA = DATA_DIR + \"testing_data.p\""
   ]
  },
  {
   "cell_type": "markdown",
   "metadata": {},
   "source": [
    "### Data Analysis\n",
    "\n",
    "#### TODO: decide on batch sizes, and sort input data by segment lengths + validation dataset\n",
    "\n",
    "Store file pointer position as `{ segment_idx: file_ptr_offset }`.\n",
    "\n",
    "Then use `seek()` to read segment from the offset position to create the new data file which is sorted by segment length."
   ]
  },
  {
   "cell_type": "code",
   "execution_count": 188,
   "metadata": {
    "colab": {},
    "colab_type": "code",
    "id": "vZNwYF7BI5SS"
   },
   "outputs": [
    {
     "data": {
      "text/html": [
       "<div>\n",
       "<style scoped>\n",
       "    .dataframe tbody tr th:only-of-type {\n",
       "        vertical-align: middle;\n",
       "    }\n",
       "\n",
       "    .dataframe tbody tr th {\n",
       "        vertical-align: top;\n",
       "    }\n",
       "\n",
       "    .dataframe thead th {\n",
       "        text-align: right;\n",
       "    }\n",
       "</style>\n",
       "<table border=\"1\" class=\"dataframe\">\n",
       "  <thead>\n",
       "    <tr style=\"text-align: right;\">\n",
       "      <th></th>\n",
       "      <th>seg_len</th>\n",
       "    </tr>\n",
       "  </thead>\n",
       "  <tbody>\n",
       "    <tr>\n",
       "      <th>count</th>\n",
       "      <td>7075.000000</td>\n",
       "    </tr>\n",
       "    <tr>\n",
       "      <th>mean</th>\n",
       "      <td>404.351802</td>\n",
       "    </tr>\n",
       "    <tr>\n",
       "      <th>std</th>\n",
       "      <td>553.041997</td>\n",
       "    </tr>\n",
       "    <tr>\n",
       "      <th>min</th>\n",
       "      <td>8.000000</td>\n",
       "    </tr>\n",
       "    <tr>\n",
       "      <th>25%</th>\n",
       "      <td>134.000000</td>\n",
       "    </tr>\n",
       "    <tr>\n",
       "      <th>50%</th>\n",
       "      <td>234.000000</td>\n",
       "    </tr>\n",
       "    <tr>\n",
       "      <th>75%</th>\n",
       "      <td>425.500000</td>\n",
       "    </tr>\n",
       "    <tr>\n",
       "      <th>max</th>\n",
       "      <td>5791.000000</td>\n",
       "    </tr>\n",
       "  </tbody>\n",
       "</table>\n",
       "</div>"
      ],
      "text/plain": [
       "           seg_len\n",
       "count  7075.000000\n",
       "mean    404.351802\n",
       "std     553.041997\n",
       "min       8.000000\n",
       "25%     134.000000\n",
       "50%     234.000000\n",
       "75%     425.500000\n",
       "max    5791.000000"
      ]
     },
     "metadata": {},
     "output_type": "display_data"
    }
   ],
   "source": [
    "f = open(TRAINING_DATA, 'rb')\n",
    "\n",
    "labels = []\n",
    "segment_lengths = []\n",
    "segment_idx = 0\n",
    "while True:\n",
    "    try:\n",
    "        (segment, label) = pickle.load(f)\n",
    "        \n",
    "        labels.append(label)\n",
    "        segment_lengths.append((segment_idx, len(segment)))\n",
    "        segment_idx += 1\n",
    "    except (EOFError):\n",
    "        break\n",
    "\n",
    "f.close()\n",
    "\n",
    "sorted_segment_lengths = sorted(segment_lengths, key=lambda tup: tup[1])\n",
    "lengths = [seg_len[1] for seg_len in segment_lengths]\n",
    "\n",
    "df = pd.DataFrame({'seg_len': lengths})\n",
    "display(df.describe())\n",
    "\n",
    "length_counts = Counter(lengths)\n",
    "# pprint(sorted(counts.items(), key=lambda i: i[0]))"
   ]
  },
  {
   "cell_type": "code",
   "execution_count": null,
   "metadata": {},
   "outputs": [
    {
     "data": {
      "text/plain": [
       "Text(0, 0.5, 'Frequency')"
      ]
     },
     "execution_count": 198,
     "metadata": {},
     "output_type": "execute_result"
    }
   ],
   "source": [
    "fig = plt.figure(figsize=(15,5))\n",
    "\n",
    "# plt.hist(labels, bins=150)\n",
    "label_counts = Counter(labels)\n",
    "plt.bar(label_counts.keys(), label_counts.values())\n",
    "\n",
    "plt.gca().set_title('Distribution of Class labels in training data')\n",
    "plt.xlabel('Label Index')\n",
    "plt.ylabel('Frequency')"
   ]
  },
  {
   "cell_type": "code",
   "execution_count": 45,
   "metadata": {},
   "outputs": [
    {
     "data": {
      "text/plain": [
       "Text(0, 0.5, 'Number of segments (frequency)')"
      ]
     },
     "execution_count": 45,
     "metadata": {},
     "output_type": "execute_result"
    },
    {
     "data": {
      "image/png": "[encoded data removed]",
      "text/plain": [
       "<Figure size 1080x720 with 2 Axes>"
      ]
     },
     "metadata": {
      "needs_background": "light"
     },
     "output_type": "display_data"
    }
   ],
   "source": [
    "fig = plt.figure(figsize=(15,10))\n",
    "\n",
    "plt.subplot(2, 1, 1)\n",
    "plt.hist(lengths, bins=150)\n",
    "# plt.bar(length_counts.keys(), length_counts.values())\n",
    "\n",
    "plt.gca().set_title('All Training Segment Lengths')\n",
    "plt.xlabel('Segment length (number of frames)')\n",
    "plt.ylabel('Number of segments (frequency)')\n",
    "\n",
    "plt.subplot(2, 1, 2)\n",
    "plt.hist(lengths, bins=150, range=[0, 500])\n",
    "\n",
    "plt.gca().set_title('Training Segment Lengths in range [0, 500]')\n",
    "plt.xlabel('Segment length (number of frames)')\n",
    "plt.ylabel('Number of segments (frequency)')"
   ]
  },
  {
   "cell_type": "markdown",
   "metadata": {},
   "source": [
    "## Simple RNN Model\n",
    "\n",
    "- [Pytorch RNN](https://www.deeplearningwizard.com/deep_learning/practical_pytorch/pytorch_recurrent_neuralnetwork/#step-3-create-model-class)\n",
    "- [Tensorflow Keras RNN](https://colab.research.google.com/github/tensorflow/docs/blob/master/site/en/guide/keras/rnn.ipynb) "
   ]
  },
  {
   "cell_type": "code",
   "execution_count": 49,
   "metadata": {},
   "outputs": [],
   "source": [
    "import torch\n",
    "import torch.nn as nn\n",
    "from torch import optim\n",
    "import torchvision.transforms as transforms\n",
    "from torch.optim.lr_scheduler import ReduceLROnPlateau"
   ]
  },
  {
   "cell_type": "code",
   "execution_count": 186,
   "metadata": {},
   "outputs": [],
   "source": [
    "def transform_input(segments):\n",
    "    \"\"\"\n",
    "    Transform input with zero padding so that all input segments \n",
    "    in the batch have same size.\n",
    "    \"\"\"\n",
    "    input_dim = 400 # num features in an i3D frame\n",
    "    segment_lengths = [len(segments) for segments in segments]\n",
    "    \n",
    "    # Create an empty matrix with zero padding\n",
    "    longest_segment = max(segment_lengths)\n",
    "    batch_size = len(segments)\n",
    "    padded_segments = np.zeros((batch_size, longest_segment, input_dim))\n",
    "    \n",
    "    # Copy over the actual frame sequences\n",
    "    for i, length in enumerate(segment_lengths):\n",
    "        sequence = segments[i]\n",
    "        padded_segments[i, 0:length] = sequence[:length]\n",
    "    \n",
    "    # Change back to tensor of type double\n",
    "    transformed_segments = []\n",
    "    for padded_segment in padded_segments:\n",
    "        transformed_segments.append(torch.Tensor(padded_segment).double())\n",
    "    \n",
    "    return transformed_segments"
   ]
  },
  {
   "cell_type": "code",
   "execution_count": null,
   "metadata": {},
   "outputs": [],
   "source": [
    "def get_next_data_batch(f, batch_size):    \n",
    "    raw_segments = []\n",
    "    labels = []\n",
    "    \n",
    "    is_end_reached = False\n",
    "    \n",
    "    num_segments = 0\n",
    "    while num_segments < batch_size:\n",
    "        try:\n",
    "            (segment, label) = pickle.load(f)\n",
    "            \n",
    "            raw_segments.append(segment)\n",
    "            labels.append(label)\n",
    "            num_segments += 1\n",
    "        except (EOFError):\n",
    "            is_end_reached = True\n",
    "            break\n",
    "\n",
    "    padded_segments = transform_input(raw_segments)\n",
    "    segments = torch.stack(padded_segments).double()\n",
    "    labels = torch.Tensor(labels).long()\n",
    "    \n",
    "    return segments, labels, is_end_reached"
   ]
  },
  {
   "cell_type": "code",
   "execution_count": 134,
   "metadata": {},
   "outputs": [],
   "source": [
    "class RNNModel(nn.Module):\n",
    "    def __init__(self, input_dim, hidden_dim, layer_dim, output_dim):\n",
    "        super(RNNModel, self).__init__()\n",
    "        \n",
    "        self.hidden_dim = hidden_dim\n",
    "        self.layer_dim = layer_dim\n",
    "\n",
    "        self.rnn = nn.RNN(input_dim, hidden_dim, layer_dim, batch_first=True, nonlinearity='relu')\n",
    "        self.fc = nn.Linear(hidden_dim, output_dim)\n",
    "\n",
    "    def forward(self, x):\n",
    "        # x: (batch_size, segment_len, input_dim)\n",
    "\n",
    "        # Initialize hidden state with zeros: (layer_dim, batch_size, hidden_dim)\n",
    "        h0 = torch.zeros(self.layer_dim, x.size(0), self.hidden_dim).double().requires_grad_()\n",
    "\n",
    "        # Detach hidden state to prevent exploding/vanishing gradients (Truncated BPTT)\n",
    "        # rnn_out: (batch_size, time_step, output_dim)\n",
    "        rnn_out, hn = self.rnn(x, h0.detach())\n",
    "\n",
    "        # Predict using hidden states of last time step  \n",
    "        # out: (batch_size, output_dim)\n",
    "        out = self.fc(rnn_out[:, -1, :]) \n",
    "\n",
    "        return out"
   ]
  },
  {
   "cell_type": "markdown",
   "metadata": {},
   "source": [
    "# Train Model"
   ]
  },
  {
   "cell_type": "code",
   "execution_count": 165,
   "metadata": {},
   "outputs": [],
   "source": [
    "def save_checkpoint(state, filename=RESULTS_DIR + 'model_checkpoint.pth'):\n",
    "    torch.save(state, filename)\n",
    "\n",
    "def train_model(model, batch_sizes, num_epochs=10, train_data_file=TRAINING_DATA, validation_data_file=VALIDATION_DATA):\n",
    "    training_losses = []\n",
    "    validation_losses = []\n",
    "\n",
    "    batch_size = 100 # TODO: use batch_sizes instead\n",
    "    \n",
    "    for epoch in range(num_epochs):\n",
    "        print('======================================================================')\n",
    "        print('Epoch: {}'.format(epoch))\n",
    "\n",
    "        try:\n",
    "            train_f.close()    \n",
    "        except(NameError):\n",
    "            ;   \n",
    "        \n",
    "        train_f = open(train_data_file, 'rb')\n",
    "        should_epoch_end = False\n",
    "\n",
    "        iter = 0\n",
    "        epoch_training_losses = []\n",
    "\n",
    "        # for i, (segments, labels) in get(train_loader):        \n",
    "        while not should_epoch_end:\n",
    "            model.train()\n",
    "            \n",
    "            segments, labels, should_epoch_end = get_next_data_batch(train_f, batch_size)\n",
    "            \n",
    "            # Load segments as tensors with gradient accumulation abilities\n",
    "            segments = segments.requires_grad_()\n",
    "\n",
    "            optimizer.zero_grad()\n",
    "\n",
    "            outputs = model(segments)\n",
    "\n",
    "            loss = loss_criterion(outputs, labels)\n",
    "\n",
    "            loss.backward()\n",
    "            optimizer.step()\n",
    "            \n",
    "            epoch_training_losses.append(loss.item())\n",
    "\n",
    "            iter += 1\n",
    "            if iter % 10 == 0:\n",
    "                print('    Iteration: {}. Loss: {}.'.format(iter, loss.item())) \n",
    "                \n",
    "#                 # Evaluate on validation set\n",
    "#                 model.eval()\n",
    "\n",
    "#                 correct = 0\n",
    "#                 total = 0\n",
    "#                 for images, labels in test_loader:\n",
    "#                     # Load images to a Torch tensors with gradient accumulation abilities\n",
    "#                     images = images.view(-1, seq_dim, input_dim)\n",
    "\n",
    "#                     outputs = model(images)\n",
    "\n",
    "#                     _, predicted = torch.max(outputs.data, 1)\n",
    "\n",
    "#                     total += labels.size(0)\n",
    "#                     correct += (predicted == labels).sum()\n",
    "\n",
    "#                 accuracy = 100 * correct / total\n",
    "\n",
    "#                 Print Loss\n",
    "#                 print('Iteration: {}. Loss: {}. Accuracy: {}'.format(iter, loss.item(), accuracy))\n",
    "\n",
    "                \n",
    "        training_losses.append(epoch_training_losses)\n",
    "        train_f.close()    \n",
    "        \n",
    "        scheduler.step(np.mean(epoch_training_losses))\n",
    "\n",
    "        save_checkpoint({\n",
    "            'epoch': epoch + 1,\n",
    "            'state_dict': model.state_dict(),\n",
    "            'optimizer' : optimizer.state_dict(),\n",
    "        })\n",
    "\n",
    "        \n",
    "    return training_losses, validation_losses"
   ]
  },
  {
   "cell_type": "code",
   "execution_count": 166,
   "metadata": {},
   "outputs": [
    {
     "name": "stdout",
     "output_type": "stream",
     "text": [
      "======================================================================\n",
      "Epoch: 0\n",
      "    Iteration: 10. Loss: 3.823301838057682.\n",
      "    Iteration: 20. Loss: 3.7799726319884996.\n",
      "    Iteration: 30. Loss: 3.7859219249326426.\n",
      "    Iteration: 40. Loss: 3.9671365179331017.\n",
      "    Iteration: 50. Loss: 3.6804156010578235.\n",
      "    Iteration: 60. Loss: 3.672719170587443.\n",
      "    Iteration: 70. Loss: 3.722281479866212.\n"
     ]
    },
    {
     "ename": "NameError",
     "evalue": "name 'net' is not defined",
     "output_type": "error",
     "traceback": [
      "\u001b[1;31m---------------------------------------------------------------------------\u001b[0m",
      "\u001b[1;31mNameError\u001b[0m                                 Traceback (most recent call last)",
      "\u001b[1;32m<ipython-input-166-b2c4b463c1fc>\u001b[0m in \u001b[0;36m<module>\u001b[1;34m\u001b[0m\n\u001b[0;32m     25\u001b[0m \u001b[1;33m\u001b[0m\u001b[0m\n\u001b[0;32m     26\u001b[0m \u001b[0mtime\u001b[0m \u001b[1;33m=\u001b[0m \u001b[0mstr\u001b[0m\u001b[1;33m(\u001b[0m\u001b[0mdatetime\u001b[0m\u001b[1;33m.\u001b[0m\u001b[0mnow\u001b[0m\u001b[1;33m(\u001b[0m\u001b[1;33m)\u001b[0m\u001b[1;33m.\u001b[0m\u001b[0mstrftime\u001b[0m\u001b[1;33m(\u001b[0m\u001b[1;34m\"%Y-%m-%d-_%I-%M-%S\"\u001b[0m\u001b[1;33m)\u001b[0m\u001b[1;33m)\u001b[0m\u001b[1;33m\u001b[0m\u001b[1;33m\u001b[0m\u001b[0m\n\u001b[1;32m---> 27\u001b[1;33m \u001b[0mtraining_losses\u001b[0m\u001b[1;33m,\u001b[0m \u001b[0mvalidation_losses\u001b[0m \u001b[1;33m=\u001b[0m \u001b[0mtrain_model\u001b[0m\u001b[1;33m(\u001b[0m\u001b[0mmodel\u001b[0m\u001b[1;33m,\u001b[0m \u001b[0mbatch_sizes\u001b[0m\u001b[1;33m=\u001b[0m\u001b[1;33m[\u001b[0m\u001b[1;33m]\u001b[0m\u001b[1;33m,\u001b[0m \u001b[0mnum_epochs\u001b[0m\u001b[1;33m=\u001b[0m\u001b[0mnum_epochs\u001b[0m\u001b[1;33m)\u001b[0m \u001b[1;31m# TODO: batch_sizes\u001b[0m\u001b[1;33m\u001b[0m\u001b[1;33m\u001b[0m\u001b[0m\n\u001b[0m\u001b[0;32m     28\u001b[0m \u001b[1;33m\u001b[0m\u001b[0m\n\u001b[0;32m     29\u001b[0m \u001b[0mpath\u001b[0m \u001b[1;33m=\u001b[0m \u001b[0mRESULTS_DIR\u001b[0m \u001b[1;33m+\u001b[0m \u001b[1;34m\"%s_rnn_model.pth\"\u001b[0m \u001b[1;33m%\u001b[0m \u001b[1;33m(\u001b[0m\u001b[0mtime\u001b[0m\u001b[1;33m)\u001b[0m\u001b[1;33m\u001b[0m\u001b[1;33m\u001b[0m\u001b[0m\n",
      "\u001b[1;32m<ipython-input-165-bbfea44560e7>\u001b[0m in \u001b[0;36mtrain_model\u001b[1;34m(model, batch_sizes, num_epochs, train_data_file, validation_data_file)\u001b[0m\n\u001b[0;32m     74\u001b[0m         save_checkpoint({\n\u001b[0;32m     75\u001b[0m             \u001b[1;34m'epoch'\u001b[0m\u001b[1;33m:\u001b[0m \u001b[0mepoch\u001b[0m \u001b[1;33m+\u001b[0m \u001b[1;36m1\u001b[0m\u001b[1;33m,\u001b[0m\u001b[1;33m\u001b[0m\u001b[1;33m\u001b[0m\u001b[0m\n\u001b[1;32m---> 76\u001b[1;33m             \u001b[1;34m'state_dict'\u001b[0m\u001b[1;33m:\u001b[0m \u001b[0mnet\u001b[0m\u001b[1;33m.\u001b[0m\u001b[0mstate_dict\u001b[0m\u001b[1;33m(\u001b[0m\u001b[1;33m)\u001b[0m\u001b[1;33m,\u001b[0m\u001b[1;33m\u001b[0m\u001b[1;33m\u001b[0m\u001b[0m\n\u001b[0m\u001b[0;32m     77\u001b[0m             \u001b[1;34m'optimizer'\u001b[0m \u001b[1;33m:\u001b[0m \u001b[0moptimizer\u001b[0m\u001b[1;33m.\u001b[0m\u001b[0mstate_dict\u001b[0m\u001b[1;33m(\u001b[0m\u001b[1;33m)\u001b[0m\u001b[1;33m,\u001b[0m\u001b[1;33m\u001b[0m\u001b[1;33m\u001b[0m\u001b[0m\n\u001b[0;32m     78\u001b[0m         })\n",
      "\u001b[1;31mNameError\u001b[0m: name 'net' is not defined"
     ]
    }
   ],
   "source": [
    "time = str(datetime.now().strftime(\"%Y-%m-%d-_%I-%M-%S\"))\n",
    "\n",
    "## Model Architecture\n",
    "input_dim = 400  # dimension of an i3D video frame\n",
    "hidden_dim = 100 # dimension of RNN hidden state\n",
    "layer_dim = 1    # number of hidden RNN layers\n",
    "output_dim = 48  # number of sub-action labels\n",
    "\n",
    "model = RNNModel(input_dim, hidden_dim, layer_dim, output_dim)\n",
    "model = model.double() # transform the model parameters to double precision\n",
    "\n",
    "\n",
    "## Loss function\n",
    "loss_criterion = nn.CrossEntropyLoss()\n",
    "\n",
    "\n",
    "## Optimizer\n",
    "learning_rate = 0.01\n",
    "weight_decay = 0.002\n",
    "momentum = 0.9\n",
    "\n",
    "optimizer = optim.SGD(model.parameters(), lr=learning_rate, weight_decay=weight_decay, momentum=momentum)\n",
    "# optimizer = optim.Adam(model.parameters(), lr=learning_rate, weight_decay=weight_decay) \n",
    "\n",
    "\n",
    "## Learning Rate Scheduler\n",
    "patience = 3\n",
    "decrease_factor = 0.5\n",
    "min_learning_rate = 0.00005\n",
    "scheduler = ReduceLROnPlateau(optimizer, mode='min', \n",
    "                              patience=patience, min_lr=min_learning_rate, factor=decrease_factor,\n",
    "                              verbose=True)\n",
    "\n",
    "\n",
    "num_epochs = 1\n",
    "\n",
    "training_losses, validation_losses = train_model(model, batch_sizes=[], num_epochs=num_epochs) # TODO: batch_sizes\n",
    "\n",
    "path = RESULTS_DIR + \"%s_rnn_model.pth\" % (time)\n",
    "torch.save(model.state_dict(), path)\n",
    "print(\"\\nSaved trained model to\", path)"
   ]
  },
  {
   "cell_type": "code",
   "execution_count": 168,
   "metadata": {},
   "outputs": [
    {
     "name": "stdout",
     "output_type": "stream",
     "text": [
      "\n",
      "Saved trained model to ../results/2020-03-21-_04-30-14_rnn_model.pth\n"
     ]
    }
   ],
   "source": [
    "path = RESULTS_DIR + \"%s_rnn_model.pth\" % (time)\n",
    "torch.save(model.state_dict(), path)\n",
    "print(\"\\nSaved trained model to\", path)"
   ]
  },
  {
   "cell_type": "code",
   "execution_count": null,
   "metadata": {},
   "outputs": [],
   "source": [
    "# # Plot training and validation losses\n",
    "# training_losses = training_losses.mean()\n",
    "# validation_losses = validation_losses.mean()\n",
    "\n",
    "# plt.figure(figsize=(12,6))\n",
    "# plt.title(\"Average batch Training and validation loss in each epoch\")\n",
    "# plt.xlabel('Epoch')\n",
    "# plt.ylabel('Loss')\n",
    "# plt.plot(training_losses)\n",
    "# plt.plot(validation_losses)\n",
    "# plt.legend([\"Training loss\",\"Validation loss\"])"
   ]
  },
  {
   "cell_type": "code",
   "execution_count": null,
   "metadata": {},
   "outputs": [],
   "source": [
    "# # Load saved checkpoint\n",
    "# checkpoint_path = RESULTS_DIR + \"model_checkpoint.pth\"\n",
    "# checkpoint = torch.load(checkpoint_path)\n",
    "\n",
    "# epoch = checkpoint['epoch']\n",
    "# model.load_state_dict(checkpoint['state_dict'])\n",
    "# optimizer.load_state_dict(checkpoint['optimizer'])\n",
    "\n",
    "# print(\"=> loaded checkpoint '{}' (epoch {})\".format(checkpoint_path, epoch))\n",
    "\n",
    "# # # Load saved model\n",
    "# # path = RESULTS_DIR + \"2020-03-21-_04-30-14_rnn_model.pth\"\n",
    "# # model.load_state_dict(torch.load(path))"
   ]
  },
  {
   "cell_type": "markdown",
   "metadata": {},
   "source": [
    "# Evaluation Results (on validation data)"
   ]
  },
  {
   "cell_type": "code",
   "execution_count": null,
   "metadata": {},
   "outputs": [],
   "source": [
    "model.eval()\n",
    "\n",
    "try:\n",
    "    val_f.close()    \n",
    "except(NameError):\n",
    "    ;   \n",
    "val_f = open(VALIDATION_DATA, 'rb')\n",
    "\n",
    "y = {'Actual': [], 'Predicted': []}\n",
    "\n",
    "is_end_reached = False\n",
    "while not is_end_reached:\n",
    "    segments, labels, is_end_reached = get_next_data_batch(val_f, 1)\n",
    "\n",
    "    outputs = model(segments)\n",
    "    _, predicted = torch.max(outputs.data, 1)\n",
    "    \n",
    "    y['Actual'].extend(labels.tolist())\n",
    "    y['Predicted'].extend(predicted.tolist())\n",
    "    \n",
    "y = pd.DataFrame(y)\n",
    "path = RESULTS_DIR + \"%s_prediction_results.csv\" % (str(time))        \n",
    "y.to_csv(path, encoding='utf-8', index=False)"
   ]
  },
  {
   "cell_type": "code",
   "execution_count": null,
   "metadata": {},
   "outputs": [],
   "source": [
    "fig = plt.figure(figsize=(10,4))\n",
    "\n",
    "y_err = np.subtract(y['Predicted'], y['Actual'])\n",
    "err_counts = Counter(y_err)\n",
    "\n",
    "plt.bar(err_counts.keys(), err_counts.values())\n",
    "plt.gca().set_title(\"Model's Prediction Errors- Frequency vs (Predicted - Actual)\")\n",
    "plt.xlabel('(Predicted-Actual)')\n",
    "plt.ylabel('Frequency')"
   ]
  },
  {
   "cell_type": "code",
   "execution_count": null,
   "metadata": {},
   "outputs": [],
   "source": [
    "contingency_df = pd.crosstab(y['Predicted'], y['Actual'])\n",
    "# display(contingency_df)\n",
    "\n",
    "fig = plt.figure(figsize=(25,25))\n",
    "\n",
    "g = sns.heatmap(contingency_df, annot=True)\n",
    "g.set_yticklabels(g.get_yticklabels(), rotation = 0);"
   ]
  },
  {
   "cell_type": "code",
   "execution_count": null,
   "metadata": {},
   "outputs": [],
   "source": [
    "from sklearn.metrics import f1_score, precision_score, recall_score, accuracy_score, roc_auc_score\n",
    "\n",
    "print('\\nMacro f1 Score= %.4f' % f1_score(y['Actual'], y['Predicted'], average=\"macro\"))\n",
    "print('Macro Precision= %.4f' % precision_score(y['Actual'], y['Predicted'], zero_division=0, average=\"macro\"))\n",
    "print('Macro Recall= %.4f' % recall_score(y['Actual'], y['Predicted'], average=\"macro\")) \n",
    "\n",
    "print('\\nMicro f1 Score= %.4f' % f1_score(y['Actual'], y['Predicted'], average=\"micro\"))\n",
    "print('Micro Precision= %.4f' % precision_score(y['Actual'], y['Predicted'], zero_division=0, average=\"micro\"))\n",
    "print('Micro Recall= %.4f' % recall_score(y['Actual'], y['Predicted'], average=\"micro\")) \n",
    "\n",
    "print('\\nAccuracy: %.4f' % accuracy_score(y['Actual'], y['Predicted']))\n",
    "\n",
    "# Computes the average AUC of all possible pairwise combinations of classes. \n",
    "# Insensitive to class imbalance when average == 'macro'.\n",
    "print(roc_auc_score(y['Actual'], y['Predicted'], multi_class='ovo', average='macro')) "
   ]
  },
  {
   "cell_type": "code",
   "execution_count": null,
   "metadata": {},
   "outputs": [],
   "source": [
    "from scipy import interp\n",
    "\n",
    "from  sklearn.metrics import precision_recall_fscore_support\n",
    "from sklearn.metrics import roc_curve, auc\n",
    "from sklearn.preprocessing import LabelBinarizer\n",
    "\n",
    "def class_report(y_true, y_pred, y_score=None, average='micro'):\n",
    "    if y_true.shape != y_pred.shape:\n",
    "        print(\"Error! y_true %s is not the same shape as y_pred %s\" % (\n",
    "              y_true.shape,\n",
    "              y_pred.shape)\n",
    "        )\n",
    "        return\n",
    "\n",
    "    lb = LabelBinarizer()\n",
    "\n",
    "    if len(y_true.shape) == 1:\n",
    "        lb.fit(y_true)\n",
    "\n",
    "    #Value counts of predictions\n",
    "    labels, cnt = np.unique(\n",
    "        y_pred,\n",
    "        return_counts=True)\n",
    "    n_classes = len(labels)\n",
    "    pred_cnt = pd.Series(cnt, index=labels)\n",
    "\n",
    "    metrics_summary = precision_recall_fscore_support(\n",
    "            y_true=y_true,\n",
    "            y_pred=y_pred,\n",
    "            labels=labels)\n",
    "\n",
    "    avg = list(precision_recall_fscore_support(\n",
    "            y_true=y_true, \n",
    "            y_pred=y_pred,\n",
    "            average='weighted'))\n",
    "\n",
    "    metrics_sum_index = ['precision', 'recall', 'f1-score', 'support']\n",
    "    class_report_df = pd.DataFrame(\n",
    "        list(metrics_summary),\n",
    "        index=metrics_sum_index,\n",
    "        columns=labels)\n",
    "\n",
    "    support = class_report_df.loc['support']\n",
    "    total = support.sum() \n",
    "    class_report_df['avg / total'] = avg[:-1] + [total]\n",
    "\n",
    "    class_report_df = class_report_df.T\n",
    "    class_report_df['pred'] = pred_cnt\n",
    "    class_report_df['pred'].iloc[-1] = total\n",
    "\n",
    "    if not (y_score is None):\n",
    "        fpr = dict()\n",
    "        tpr = dict()\n",
    "        roc_auc = dict()\n",
    "        for label_it, label in enumerate(labels):\n",
    "            fpr[label], tpr[label], _ = roc_curve(\n",
    "                (y_true == label).astype(int), \n",
    "                y_score[:, label_it])\n",
    "\n",
    "            roc_auc[label] = auc(fpr[label], tpr[label])\n",
    "\n",
    "        if average == 'micro':\n",
    "            if n_classes <= 2:\n",
    "                fpr[\"avg / total\"], tpr[\"avg / total\"], _ = roc_curve(\n",
    "                    lb.transform(y_true).ravel(), \n",
    "                    y_score[:, 1].ravel())\n",
    "            else:\n",
    "                fpr[\"avg / total\"], tpr[\"avg / total\"], _ = roc_curve(\n",
    "                        lb.transform(y_true).ravel(), \n",
    "                        y_score.ravel())\n",
    "\n",
    "            roc_auc[\"avg / total\"] = auc(\n",
    "                fpr[\"avg / total\"], \n",
    "                tpr[\"avg / total\"])\n",
    "\n",
    "        elif average == 'macro':\n",
    "            # First aggregate all false positive rates\n",
    "            all_fpr = np.unique(np.concatenate([\n",
    "                fpr[i] for i in labels]\n",
    "            ))\n",
    "\n",
    "            # Then interpolate all ROC curves at this points\n",
    "            mean_tpr = np.zeros_like(all_fpr)\n",
    "            for i in labels:\n",
    "                mean_tpr += interp(all_fpr, fpr[i], tpr[i])\n",
    "\n",
    "            # Finally average it and compute AUC\n",
    "            mean_tpr /= n_classes\n",
    "\n",
    "            fpr[\"macro\"] = all_fpr\n",
    "            tpr[\"macro\"] = mean_tpr\n",
    "\n",
    "            roc_auc[\"avg / total\"] = auc(fpr[\"macro\"], tpr[\"macro\"])\n",
    "\n",
    "        class_report_df['AUC'] = pd.Series(roc_auc)\n",
    "\n",
    "    return class_report_df\n",
    "\n",
    "report_with_auc = class_report(y_true=np.array(y['Actual']),y_pred=np.array(y['Predicted']))\n",
    "display(report_with_auc)"
   ]
  },
  {
   "cell_type": "markdown",
   "metadata": {},
   "source": [
    "## Make predictions on unseen test data (i.e. Kaggle submission)"
   ]
  },
  {
   "cell_type": "code",
   "execution_count": 174,
   "metadata": {},
   "outputs": [],
   "source": [
    "def get_next_test_batch(f, batch_size=1):    \n",
    "    raw_segments = []\n",
    "    labels = []\n",
    "    \n",
    "    is_end_reached = False\n",
    "    \n",
    "    num_segments = 0\n",
    "    while num_segments < batch_size:\n",
    "        try:\n",
    "            segment = pickle.load(f)\n",
    "            \n",
    "            raw_segments.append(segment)\n",
    "            labels.append(label)\n",
    "            num_segments += 1\n",
    "        except (EOFError):\n",
    "            is_end_reached = True\n",
    "            break\n",
    "\n",
    "    padded_segments = transform_input(raw_segments)\n",
    "    segments = torch.stack(padded_segments).double()\n",
    "    labels = torch.Tensor(labels).long()\n",
    "    \n",
    "    return segments, is_end_reached"
   ]
  },
  {
   "cell_type": "code",
   "execution_count": 187,
   "metadata": {},
   "outputs": [],
   "source": [
    "model.eval()\n",
    "\n",
    "try:\n",
    "    test_f.close()    \n",
    "except(NameError):\n",
    "    ;   \n",
    "test_f = open(TEST_DATA, 'rb')\n",
    "\n",
    "y = {'Predicted': []}\n",
    "\n",
    "is_end_reached = False\n",
    "while not is_end_reached:\n",
    "    segments, is_end_reached = get_next_test_batch(test_f, 50)\n",
    "\n",
    "    outputs = model(segments)\n",
    "    _, predicted = torch.max(outputs.data, 1)\n",
    "    \n",
    "    y['Predicted'].extend(predicted.tolist())\n",
    "\n",
    "y = pd.DataFrame(y)\n",
    "path = RESULTS_DIR + \"%s_predictions_submission.csv\" % (str(time))        \n",
    "y.to_csv(path, encoding='utf-8', index=False)"
   ]
  }
 ],
 "metadata": {
  "colab": {
   "name": "CS5242.ipynb",
   "provenance": []
  },
  "kernelspec": {
   "display_name": "Python 3",
   "language": "python",
   "name": "python3"
  },
  "language_info": {
   "codemirror_mode": {
    "name": "ipython",
    "version": 3
   },
   "file_extension": ".py",
   "mimetype": "text/x-python",
   "name": "python",
   "nbconvert_exporter": "python",
   "pygments_lexer": "ipython3",
   "version": "3.7.6"
  }
 },
 "nbformat": 4,
 "nbformat_minor": 1
}
