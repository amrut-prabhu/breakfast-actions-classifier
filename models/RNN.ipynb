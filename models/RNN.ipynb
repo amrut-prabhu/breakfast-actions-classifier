{
 "cells": [
  {
   "cell_type": "markdown",
   "metadata": {},
   "source": [
    "## Import Common Packages"
   ]
  },
  {
   "cell_type": "code",
   "execution_count": 4,
   "metadata": {},
   "outputs": [],
   "source": [
    "import pandas as pd\n",
    "import numpy as np\n",
    "\n",
    "import _pickle as pickle\n",
    "from collections import Counter\n",
    "from pprint import pprint\n",
    "from datetime import datetime\n",
    "import shutil\n",
    "import time\n",
    "import os\n",
    "\n",
    "import matplotlib.pyplot as plt\n",
    "%matplotlib inline\n",
    "import seaborn as sns"
   ]
  },
  {
   "cell_type": "markdown",
   "metadata": {
    "colab_type": "text",
    "id": "Pr7VTg_TJAUN"
   },
   "source": [
    "## ~~Loading from training data directory (supports batch mode)~~"
   ]
  },
  {
   "cell_type": "code",
   "execution_count": null,
   "metadata": {
    "colab": {},
    "colab_type": "code",
    "id": "6P5xkIhbA4pA"
   },
   "outputs": [],
   "source": [
    "# import torch\n",
    "# from torch.utils.data import Dataset, DataLoader\n",
    "# from torchvision.datasets import DatasetFolder"
   ]
  },
  {
   "cell_type": "code",
   "execution_count": null,
   "metadata": {
    "colab": {},
    "colab_type": "code",
    "id": "fdi9dI_fA8oO"
   },
   "outputs": [],
   "source": [
    "# TRAIN_DIR = '../training_data/'"
   ]
  },
  {
   "cell_type": "code",
   "execution_count": null,
   "metadata": {
    "colab": {},
    "colab_type": "code",
    "id": "-904J2zJBARp"
   },
   "outputs": [],
   "source": [
    "# from torch.utils.data import Dataset, DataLoader\n",
    "# from torchvision.datasets import DatasetFolder\n",
    "\n",
    "# def pickle_loader(input_path):\n",
    "#     f = open(input_path, 'rb')\n",
    "#     data = pickle.load(f)\n",
    "\n",
    "#     return { 'segment': data[0], 'label': data[1] }\n",
    "# #     return data[0], data[1]\n",
    "\n",
    "\n",
    "# # TODO: decide on what transformation to perform\n",
    "# def transform_input(input):\n",
    "#     \"\"\"\n",
    "#     Transform input so that all input samples in the batch have same size.\n",
    "#     Note: this is not required if the batch size is 1 for the data loader.\n",
    "#     \"\"\"\n",
    "#     num_frames = 3\n",
    "    \n",
    "#     return { 'segment': input['segment'][:num_frames], 'label': input['label'] }\n",
    "# #     return input[:num_frames]"
   ]
  },
  {
   "cell_type": "code",
   "execution_count": null,
   "metadata": {
    "colab": {},
    "colab_type": "code",
    "id": "E8-STx19BJnm"
   },
   "outputs": [],
   "source": [
    "# # https://pytorch.org/docs/stable/torchvision/datasets.html#datasetfolder\n",
    "# # Directory should be 'TRAIN_DIR/data/*.doc'\n",
    "# train_data = DatasetFolder(root=TRAIN_DIR, \n",
    "#                            loader=pickle_loader, \n",
    "#                            extensions='.doc', \n",
    "#                            transform=transform_input\n",
    "#                           )\n",
    "\n",
    "# train_loader = torch.utils.data.DataLoader(dataset=train_data,\n",
    "#                                            batch_size=4,\n",
    "#                                            num_workers=0,\n",
    "#                                            shuffle=False\n",
    "#                                           )\n",
    "\n",
    "# for batch_idx, batch_data in enumerate(train_loader):\n",
    "#     input_samples = batch_data[0]['segment'] # Same length as batch size\n",
    "#     input_labels = batch_data[0]['label']\n",
    "\n",
    "# #     x = Variable(input_samples)\n",
    "# #     out = model(x)\n",
    "# # https://stanford.edu/~shervine/blog/pytorch-how-to-generate-data-parallel"
   ]
  },
  {
   "cell_type": "markdown",
   "metadata": {
    "colab_type": "text",
    "id": "6faLsCwUI7CD"
   },
   "source": [
    "## Loading from single training data file"
   ]
  },
  {
   "cell_type": "code",
   "execution_count": 5,
   "metadata": {
    "colab": {},
    "colab_type": "code",
    "id": "JYUwZwX8Kroq"
   },
   "outputs": [],
   "source": [
    "ROOT_DIR = \"../\"#\"/content/drive/My Drive/\" # \"../\"\n",
    "\n",
    "DATA_DIR = ROOT_DIR\n",
    "RESULTS_DIR = ROOT_DIR + \"results/\"\n",
    "\n",
    "TRAINING_DATA = DATA_DIR + \"training_data.p\"\n",
    "VALIDATION_DATA = DATA_DIR + \"validation_data.p\"\n",
    "TEST_DATA = DATA_DIR + \"testing_data.p\""
   ]
  },
  {
   "cell_type": "markdown",
   "metadata": {},
   "source": [
    "### Data Analysis\n",
    "\n",
    "#### TODO: decide on batch sizes, and sort input data by segment lengths + validation dataset\n",
    "\n",
    "Store file pointer position as `{ segment_idx: file_ptr_offset }`.\n",
    "\n",
    "Then use `seek()` to read segment from the offset position to create the new data file which is sorted by segment length."
   ]
  },
  {
   "cell_type": "code",
   "execution_count": 19,
   "metadata": {
    "colab": {},
    "colab_type": "code",
    "id": "vZNwYF7BI5SS"
   },
   "outputs": [
    {
     "name": "stdout",
     "output_type": "stream",
     "text": [
      "5660\n"
     ]
    },
    {
     "data": {
      "text/html": [
       "<div>\n",
       "<style scoped>\n",
       "    .dataframe tbody tr th:only-of-type {\n",
       "        vertical-align: middle;\n",
       "    }\n",
       "\n",
       "    .dataframe tbody tr th {\n",
       "        vertical-align: top;\n",
       "    }\n",
       "\n",
       "    .dataframe thead th {\n",
       "        text-align: right;\n",
       "    }\n",
       "</style>\n",
       "<table border=\"1\" class=\"dataframe\">\n",
       "  <thead>\n",
       "    <tr style=\"text-align: right;\">\n",
       "      <th></th>\n",
       "      <th>seg_len</th>\n",
       "    </tr>\n",
       "  </thead>\n",
       "  <tbody>\n",
       "    <tr>\n",
       "      <th>count</th>\n",
       "      <td>5660.000000</td>\n",
       "    </tr>\n",
       "    <tr>\n",
       "      <th>mean</th>\n",
       "      <td>407.330389</td>\n",
       "    </tr>\n",
       "    <tr>\n",
       "      <th>std</th>\n",
       "      <td>554.839000</td>\n",
       "    </tr>\n",
       "    <tr>\n",
       "      <th>min</th>\n",
       "      <td>8.000000</td>\n",
       "    </tr>\n",
       "    <tr>\n",
       "      <th>25%</th>\n",
       "      <td>133.000000</td>\n",
       "    </tr>\n",
       "    <tr>\n",
       "      <th>50%</th>\n",
       "      <td>235.000000</td>\n",
       "    </tr>\n",
       "    <tr>\n",
       "      <th>75%</th>\n",
       "      <td>432.000000</td>\n",
       "    </tr>\n",
       "    <tr>\n",
       "      <th>max</th>\n",
       "      <td>5791.000000</td>\n",
       "    </tr>\n",
       "  </tbody>\n",
       "</table>\n",
       "</div>"
      ],
      "text/plain": [
       "           seg_len\n",
       "count  5660.000000\n",
       "mean    407.330389\n",
       "std     554.839000\n",
       "min       8.000000\n",
       "25%     133.000000\n",
       "50%     235.000000\n",
       "75%     432.000000\n",
       "max    5791.000000"
      ]
     },
     "metadata": {},
     "output_type": "display_data"
    }
   ],
   "source": [
    "f = open(TRAINING_DATA, 'rb')\n",
    "\n",
    "labels = []\n",
    "segment_lengths = []\n",
    "segment_idx = 0\n",
    "while True:\n",
    "    try:\n",
    "        (segment, label) = pickle.load(f)\n",
    "        \n",
    "        labels.append(label)\n",
    "        segment_lengths.append((segment_idx, len(segment)))\n",
    "        segment_idx += 1\n",
    "    except (EOFError):\n",
    "        break\n",
    "\n",
    "f.close()\n",
    "\n",
    "print(segment_idx)\n",
    "sorted_segment_lengths = sorted(segment_lengths, key=lambda tup: tup[1])\n",
    "lengths = [seg_len[1] for seg_len in segment_lengths]\n",
    "\n",
    "df = pd.DataFrame({'seg_len': lengths})\n",
    "display(df.describe())\n",
    "\n",
    "length_counts = Counter(lengths)\n",
    "# pprint(sorted(counts.items(), key=lambda i: i[0]))"
   ]
  },
  {
   "cell_type": "code",
   "execution_count": 20,
   "metadata": {},
   "outputs": [
    {
     "data": {
      "text/plain": [
       "Text(0, 0.5, 'Frequency')"
      ]
     },
     "execution_count": 20,
     "metadata": {},
     "output_type": "execute_result"
    },
    {
     "data": {
      "image/png": "[encoded data removed]",
      "text/plain": [
       "<Figure size 1080x360 with 1 Axes>"
      ]
     },
     "metadata": {
      "needs_background": "light"
     },
     "output_type": "display_data"
    }
   ],
   "source": [
    "fig = plt.figure(figsize=(15,5))\n",
    "\n",
    "# plt.hist(labels, bins=150)\n",
    "label_counts = Counter(labels)\n",
    "plt.bar(label_counts.keys(), label_counts.values())\n",
    "\n",
    "plt.gca().set_title('Distribution of Class labels in training data')\n",
    "plt.xlabel('Label Index')\n",
    "plt.ylabel('Frequency')"
   ]
  },
  {
   "cell_type": "code",
   "execution_count": 21,
   "metadata": {},
   "outputs": [
    {
     "data": {
      "text/plain": [
       "Text(0, 0.5, 'Number of segments (frequency)')"
      ]
     },
     "execution_count": 21,
     "metadata": {},
     "output_type": "execute_result"
    },
    {
     "data": {
      "image/png": "[encoded data removed]",
      "text/plain": [
       "<Figure size 1080x720 with 2 Axes>"
      ]
     },
     "metadata": {
      "needs_background": "light"
     },
     "output_type": "display_data"
    }
   ],
   "source": [
    "fig = plt.figure(figsize=(15,10))\n",
    "\n",
    "plt.subplot(2, 1, 1)\n",
    "plt.hist(lengths, bins=150)\n",
    "# plt.bar(length_counts.keys(), length_counts.values())\n",
    "\n",
    "plt.gca().set_title('All Training Segment Lengths')\n",
    "plt.xlabel('Segment length (number of frames)')\n",
    "plt.ylabel('Number of segments (frequency)')\n",
    "\n",
    "plt.subplot(2, 1, 2)\n",
    "plt.hist(lengths, bins=150, range=[0, 500])\n",
    "\n",
    "plt.gca().set_title('Training Segment Lengths in range [0, 500]')\n",
    "plt.xlabel('Segment length (number of frames)')\n",
    "plt.ylabel('Number of segments (frequency)')"
   ]
  },
  {
   "cell_type": "markdown",
   "metadata": {},
   "source": [
    "## Simple RNN Model\n",
    "\n",
    "- [Pytorch RNN](https://www.deeplearningwizard.com/deep_learning/practical_pytorch/pytorch_recurrent_neuralnetwork/#step-3-create-model-class)\n",
    "- [Tensorflow Keras RNN](https://colab.research.google.com/github/tensorflow/docs/blob/master/site/en/guide/keras/rnn.ipynb) "
   ]
  },
  {
   "cell_type": "code",
   "execution_count": 9,
   "metadata": {},
   "outputs": [],
   "source": [
    "import torch\n",
    "import torch.nn as nn\n",
    "from torch import optim\n",
    "import torchvision.transforms as transforms\n",
    "from torch.optim.lr_scheduler import ReduceLROnPlateau"
   ]
  },
  {
   "cell_type": "code",
   "execution_count": 10,
   "metadata": {},
   "outputs": [],
   "source": [
    "def transform_input(segments):\n",
    "    \"\"\"\n",
    "    Transform input with zero padding so that all input segments \n",
    "    in the batch have same size.\n",
    "    \"\"\"\n",
    "    input_dim = 400 # num features in an i3D frame\n",
    "    segment_lengths = [len(segments) for segments in segments]\n",
    "    \n",
    "    # Create an empty matrix with zero padding\n",
    "    longest_segment = max(segment_lengths)\n",
    "    batch_size = len(segments)\n",
    "    padded_segments = np.zeros((batch_size, longest_segment, input_dim))\n",
    "    \n",
    "    # Copy over the actual frame sequences\n",
    "    for i, length in enumerate(segment_lengths):\n",
    "        sequence = segments[i]\n",
    "        padded_segments[i, 0:length] = sequence[:length]\n",
    "    \n",
    "    # Change back to tensor of type double\n",
    "    transformed_segments = []\n",
    "    for padded_segment in padded_segments:\n",
    "        transformed_segments.append(torch.Tensor(padded_segment).double())\n",
    "    \n",
    "    return transformed_segments"
   ]
  },
  {
   "cell_type": "code",
   "execution_count": 52,
   "metadata": {},
   "outputs": [],
   "source": [
    "def get_next_data_batch(f, batch_size):    \n",
    "    raw_segments = []\n",
    "    labels = []\n",
    "    \n",
    "    is_end_reached = False\n",
    "    \n",
    "    num_segments = 0\n",
    "    while num_segments < batch_size:\n",
    "        try:\n",
    "            (segment, label) = pickle.load(f)\n",
    "            \n",
    "            raw_segments.append(segment)\n",
    "            labels.append(label)\n",
    "            num_segments += 1\n",
    "        except (EOFError):\n",
    "            is_end_reached = True\n",
    "            break\n",
    "    \n",
    "    if len(raw_segments) == 0:\n",
    "        return [], [], is_end_reached\n",
    "    \n",
    "    padded_segments = transform_input(raw_segments)\n",
    "    segments = torch.stack(padded_segments).double()\n",
    "    labels = torch.Tensor(labels).long()\n",
    "    \n",
    "    return segments, labels, is_end_reached"
   ]
  },
  {
   "cell_type": "code",
   "execution_count": 12,
   "metadata": {},
   "outputs": [],
   "source": [
    "class RNNModel(nn.Module):\n",
    "    def __init__(self, input_dim, hidden_dim, layer_dim, output_dim):\n",
    "        super(RNNModel, self).__init__()\n",
    "        \n",
    "        self.hidden_dim = hidden_dim\n",
    "        self.layer_dim = layer_dim\n",
    "\n",
    "        self.rnn = nn.RNN(input_dim, hidden_dim, layer_dim, batch_first=True, nonlinearity='relu')\n",
    "        self.fc = nn.Linear(hidden_dim, output_dim)\n",
    "\n",
    "    def forward(self, x):\n",
    "        # x: (batch_size, segment_len, input_dim)\n",
    "\n",
    "        # Initialize hidden state with zeros: (layer_dim, batch_size, hidden_dim)\n",
    "        h0 = torch.zeros(self.layer_dim, x.size(0), self.hidden_dim).double().requires_grad_()\n",
    "\n",
    "        # Detach hidden state to prevent exploding/vanishing gradients (Truncated BPTT)\n",
    "        # rnn_out: (batch_size, time_step, output_dim)\n",
    "        rnn_out, hn = self.rnn(x, h0.detach())\n",
    "\n",
    "        # Predict using hidden states of last time step  \n",
    "        # out: (batch_size, output_dim)\n",
    "        out = self.fc(rnn_out[:, -1, :]) \n",
    "\n",
    "        return out"
   ]
  },
  {
   "cell_type": "markdown",
   "metadata": {},
   "source": [
    "# Train Model"
   ]
  },
  {
   "cell_type": "code",
   "execution_count": 17,
   "metadata": {},
   "outputs": [],
   "source": [
    "def save_checkpoint(state, filename):\n",
    "    torch.save(state, filename)\n",
    "\n",
    "def train_model(model, batch_sizes, num_epochs=10, train_data_file=TRAINING_DATA, validation_data_file=VALIDATION_DATA):\n",
    "    training_losses = []\n",
    "    validation_losses = []\n",
    "\n",
    "    \n",
    "    for epoch in range(num_epochs):\n",
    "        start = time.time()\n",
    "        print('======================================================================')\n",
    "        print('Epoch: {}'.format(epoch))\n",
    "\n",
    "        try:\n",
    "            train_f.close()    \n",
    "        except(NameError):\n",
    "            ;   \n",
    "        \n",
    "        train_f = open(train_data_file, 'rb')\n",
    "        should_epoch_end = False\n",
    "\n",
    "        iter = 0\n",
    "        epoch_training_losses = []\n",
    "\n",
    "        # for i, (segments, labels) in get(train_loader):        \n",
    "        while not should_epoch_end:\n",
    "            model.train()\n",
    "            \n",
    "            batch_size = 100 # TODO: use batch_sizes instead\n",
    "            # batch_size = batch_sizes[iter] # Use variable batch sizes\n",
    "            segments, labels, should_epoch_end = get_next_data_batch(train_f, batch_size)\n",
    "            if len(segments) == 0:\n",
    "                break\n",
    "            \n",
    "            # Load segments as tensors with gradient accumulation abilities\n",
    "            segments = segments.requires_grad_()\n",
    "\n",
    "            optimizer.zero_grad()\n",
    "\n",
    "            outputs = model(segments)\n",
    "\n",
    "            loss = loss_criterion(outputs, labels)\n",
    "\n",
    "            loss.backward()\n",
    "            optimizer.step()\n",
    "            \n",
    "            epoch_training_losses.append(loss.item())\n",
    "\n",
    "            iter += 1\n",
    "            if iter % 10 == 0:\n",
    "                print('    Iteration: {}. Loss: {}.'.format(iter, loss.item())) \n",
    "\n",
    "    \n",
    "        train_f.close()            \n",
    "        \n",
    "        # Evaluate on validation set\n",
    "        try:\n",
    "            val_f.close()    \n",
    "        except(NameError):\n",
    "            ;  \n",
    "            \n",
    "        val_f = open(validation_data_file, 'rb')\n",
    "        model.eval()\n",
    "\n",
    "        correct = 0\n",
    "        total = 0\n",
    "        is_file_end = False\n",
    "\n",
    "        epoch_validation_losses = []\n",
    "        while not is_file_end:\n",
    "            batch_size = 100 # TODO: use batch_sizes instead\n",
    "            # batch_size = batch_sizes[iter] # Use variable batch sizes\n",
    "            \n",
    "            segments, labels, is_file_end = get_next_data_batch(val_f, batch_size)\n",
    "            if len(segments) == 0:\n",
    "                break\n",
    "        \n",
    "            outputs = model(segments)\n",
    "            \n",
    "            loss = loss_criterion(outputs, labels)\n",
    "            epoch_validation_losses.append(loss.item())\n",
    "\n",
    "            _, predicted = torch.max(outputs.data, 1)\n",
    "\n",
    "            total += labels.size(0)\n",
    "            correct += (predicted == labels).sum()\n",
    "        \n",
    "        val_f.close()\n",
    "        \n",
    "\n",
    "        accuracy = 100 * correct / total\n",
    "        \n",
    "        # Print loss\n",
    "        training_losses.append(np.mean(epoch_training_losses))\n",
    "        validation_losses.append(np.mean(epoch_validation_losses))\n",
    "\n",
    "        scheduler.step(validation_losses[-1])\n",
    "\n",
    "        print(f' Training Loss: {training_losses[-1]} Validation Loss: {validation_losses[-1]} Validation Accuracy: {accuracy}')\n",
    "        end = time.time()\n",
    "        print(f'Epoch took {end - start} seconds')\n",
    "        \n",
    "        save_checkpoint({\n",
    "            'epoch': epoch + 1,\n",
    "            'state_dict': model.state_dict(),\n",
    "            'optimizer' : optimizer.state_dict(),\n",
    "        }, RESULTS_DIR + model_time + '/model_checkpoint.pth')\n",
    "        \n",
    "    return training_losses, validation_losses"
   ]
  },
  {
   "cell_type": "code",
   "execution_count": 18,
   "metadata": {},
   "outputs": [
    {
     "name": "stdout",
     "output_type": "stream",
     "text": [
      "======================================================================\n",
      "Epoch: 0\n",
      "    Iteration: 10. Loss: 4.7105998752786284.\n",
      "    Iteration: 20. Loss: 3.791323129504601.\n",
      "    Iteration: 30. Loss: 3.730759178643469.\n",
      "    Iteration: 40. Loss: 3.7994009751587696.\n",
      "    Iteration: 50. Loss: 3.862946122577028.\n",
      " Training Loss: 3.955994411511293 Validation Loss: 3.749188850080361 Validation Accuracy: 8\n",
      "Epoch took 289.8275079727173 seconds\n",
      "======================================================================\n",
      "Epoch: 1\n",
      "    Iteration: 10. Loss: 3.6781462286192768.\n",
      "    Iteration: 20. Loss: 3.617930586371567.\n",
      "    Iteration: 30. Loss: 3.848693893220051.\n",
      "    Iteration: 40. Loss: 3.6653867481694937.\n",
      "    Iteration: 50. Loss: 3.7647621531480193.\n",
      " Training Loss: 3.726096523804803 Validation Loss: 3.644752837894829 Validation Accuracy: 6\n",
      "Epoch took 274.07900190353394 seconds\n",
      "======================================================================\n",
      "Epoch: 2\n",
      "    Iteration: 10. Loss: 3.7010666719399428.\n",
      "    Iteration: 20. Loss: 3.599485831179719.\n",
      "    Iteration: 30. Loss: 3.703170956856697.\n",
      "    Iteration: 40. Loss: 3.612751601737803.\n",
      "    Iteration: 50. Loss: 3.643353947100289.\n",
      " Training Loss: 3.6727668805469427 Validation Loss: 3.624993340602116 Validation Accuracy: 5\n",
      "Epoch took 266.6392946243286 seconds\n",
      "\n",
      "Saved trained model to ../results/2020-03-25-_12-54-05_rnn_model.pth\n"
     ]
    }
   ],
   "source": [
    "model_time = str(datetime.now().strftime(\"%Y-%m-%d_%I-%M-%S\"))\n",
    "os.mkdir(model_time)\n",
    "\n",
    "## Model Architecture\n",
    "input_dim = 400  # dimension of an i3D video frame\n",
    "hidden_dim = 100 # dimension of RNN hidden state\n",
    "layer_dim = 1    # number of hidden RNN layers\n",
    "output_dim = 48  # number of sub-action labels\n",
    "\n",
    "model = RNNModel(input_dim, hidden_dim, layer_dim, output_dim)\n",
    "model = model.double() # transform the model parameters to double precision\n",
    "\n",
    "\n",
    "## Loss function\n",
    "loss_criterion = nn.CrossEntropyLoss()\n",
    "\n",
    "\n",
    "## Optimizer\n",
    "learning_rate = 0.01\n",
    "weight_decay = 0.002\n",
    "momentum = 0.9\n",
    "\n",
    "optimizer = optim.SGD(model.parameters(), lr=learning_rate, weight_decay=weight_decay, momentum=momentum)\n",
    "# optimizer = optim.Adam(model.parameters(), lr=learning_rate, weight_decay=weight_decay) \n",
    "\n",
    "\n",
    "## Learning Rate Scheduler\n",
    "patience = 3\n",
    "decrease_factor = 0.5\n",
    "min_learning_rate = 0.00005\n",
    "scheduler = ReduceLROnPlateau(optimizer, mode='min', \n",
    "                              patience=patience, min_lr=min_learning_rate, factor=decrease_factor,\n",
    "                              verbose=True)\n",
    "\n",
    "\n",
    "num_epochs = 3\n",
    "\n",
    "training_losses, validation_losses = train_model(model, batch_sizes=[], num_epochs=num_epochs) # TODO: batch_sizes\n",
    "\n",
    "path = RESULTS_DIR + model_time + \"/rnn_model.pth\"\n",
    "torch.save(model.state_dict(), path)\n",
    "print(\"\\nSaved trained model to\", path)"
   ]
  },
  {
   "cell_type": "code",
   "execution_count": 23,
   "metadata": {},
   "outputs": [
    {
     "data": {
      "text/plain": [
       "<matplotlib.legend.Legend at 0x21115a5d888>"
      ]
     },
     "execution_count": 23,
     "metadata": {},
     "output_type": "execute_result"
    },
    {
     "data": {
      "image/png": "[encoded data removed]",
      "text/plain": [
       "<Figure size 864x432 with 1 Axes>"
      ]
     },
     "metadata": {
      "needs_background": "light"
     },
     "output_type": "display_data"
    }
   ],
   "source": [
    "# Plot training and validation losses\n",
    "# training_losses = training_losses.mean()\n",
    "# validation_losses = validation_losses.mean()\n",
    "\n",
    "plt.figure(figsize=(12,6))\n",
    "plt.title(\"Average batch Training and validation loss in each epoch\")\n",
    "plt.xlabel('Epoch')\n",
    "plt.ylabel('Loss')\n",
    "plt.plot(training_losses)\n",
    "plt.plot(validation_losses)\n",
    "plt.legend([\"Training loss\",\"Validation loss\"])"
   ]
  },
  {
   "cell_type": "code",
   "execution_count": null,
   "metadata": {},
   "outputs": [],
   "source": [
    "# # Load saved checkpoint\n",
    "# checkpoint_path = RESULTS_DIR + \"2020-03-21-_04-30-14\" + \"/model_checkpoint.pth\"\n",
    "# checkpoint = torch.load(checkpoint_path)\n",
    "\n",
    "# epoch = checkpoint['epoch']\n",
    "# model.load_state_dict(checkpoint['state_dict'])\n",
    "# optimizer.load_state_dict(checkpoint['optimizer'])\n",
    "\n",
    "# print(\"=> loaded checkpoint '{}' (epoch {})\".format(checkpoint_path, epoch))\n",
    "\n",
    "# # # Load saved model\n",
    "# # path = RESULTS_DIR + \"2020-03-21-_04-30-14\" + \"/rnn_model.pth\"\n",
    "# # model.load_state_dict(torch.load(path))"
   ]
  },
  {
   "cell_type": "markdown",
   "metadata": {},
   "source": [
    "# Evaluation Results (on validation data)"
   ]
  },
  {
   "cell_type": "code",
   "execution_count": 53,
   "metadata": {},
   "outputs": [],
   "source": [
    "model.eval()\n",
    "\n",
    "try:\n",
    "    val_f.close()    \n",
    "except(NameError):\n",
    "    ;   \n",
    "val_f = open(VALIDATION_DATA, 'rb')\n",
    "\n",
    "y = {'Actual': [], 'Predicted': []}\n",
    "\n",
    "is_end_reached = False\n",
    "while not is_end_reached:\n",
    "    segments, labels, is_end_reached = get_next_data_batch(val_f, 1)\n",
    "    \n",
    "    if len(segments) == 0:\n",
    "        break\n",
    "    \n",
    "    outputs = model(segments)\n",
    "    _, predicted = torch.max(outputs.data, 1)\n",
    "    \n",
    "    y['Actual'].extend(labels.tolist())\n",
    "    y['Predicted'].extend(predicted.tolist())\n",
    "    \n",
    "y_df = pd.DataFrame(y)\n",
    "path = RESULTS_DIR + model_time + \"/prediction_results.csv\"        \n",
    "y_df.to_csv(path, encoding='utf-8', index=False)\n",
    "\n",
    "print('Done predicting on validation set')"
   ]
  },
  {
   "cell_type": "code",
   "execution_count": 54,
   "metadata": {},
   "outputs": [
    {
     "data": {
      "text/plain": [
       "Text(0, 0.5, 'Frequency')"
      ]
     },
     "execution_count": 54,
     "metadata": {},
     "output_type": "execute_result"
    },
    {
     "data": {
      "image/png": "[encoded data removed]",
      "text/plain": [
       "<Figure size 720x288 with 1 Axes>"
      ]
     },
     "metadata": {
      "needs_background": "light"
     },
     "output_type": "display_data"
    }
   ],
   "source": [
    "fig = plt.figure(figsize=(10,4))\n",
    "\n",
    "y_err = np.subtract(y['Predicted'], y['Actual'])\n",
    "err_counts = Counter(y_err)\n",
    "\n",
    "plt.bar(err_counts.keys(), err_counts.values())\n",
    "plt.gca().set_title(\"Model's Prediction Errors- Frequency vs (Predicted - Actual)\")\n",
    "plt.xlabel('(Predicted-Actual)')\n",
    "plt.ylabel('Frequency')"
   ]
  },
  {
   "cell_type": "code",
   "execution_count": 35,
   "metadata": {},
   "outputs": [
    {
     "data": {
      "image/png": "[encoded data removed]",
      "text/plain": [
       "<Figure size 1800x1800 with 2 Axes>"
      ]
     },
     "metadata": {
      "needs_background": "light"
     },
     "output_type": "display_data"
    }
   ],
   "source": [
    "contingency_df = pd.crosstab(y_df['Predicted'], y_df['Actual'])\n",
    "# display(contingency_df)\n",
    "\n",
    "fig = plt.figure(figsize=(25,25))\n",
    "\n",
    "g = sns.heatmap(contingency_df, annot=True)\n",
    "g.set_yticklabels(g.get_yticklabels(), rotation = 0);"
   ]
  },
  {
   "cell_type": "code",
   "execution_count": 55,
   "metadata": {},
   "outputs": [
    {
     "name": "stdout",
     "output_type": "stream",
     "text": [
      "\n",
      "Macro f1 Score= 0.0127\n",
      "Macro Precision= 0.0106\n",
      "Macro Recall= 0.0258\n",
      "\n",
      "Micro f1 Score= 0.0572\n",
      "Micro Precision= 0.0572\n",
      "Micro Recall= 0.0572\n",
      "\n",
      "Accuracy: 0.0572\n"
     ]
    }
   ],
   "source": [
    "from sklearn.metrics import f1_score, precision_score, recall_score, accuracy_score, roc_auc_score\n",
    "\n",
    "print('\\nMacro f1 Score= %.4f' % f1_score(y['Actual'], y['Predicted'], average=\"macro\"))\n",
    "print('Macro Precision= %.4f' % precision_score(y['Actual'], y['Predicted'], zero_division=0, average=\"macro\"))\n",
    "print('Macro Recall= %.4f' % recall_score(y['Actual'], y['Predicted'], average=\"macro\")) \n",
    "\n",
    "print('\\nMicro f1 Score= %.4f' % f1_score(y['Actual'], y['Predicted'], average=\"micro\"))\n",
    "print('Micro Precision= %.4f' % precision_score(y['Actual'], y['Predicted'], zero_division=0, average=\"micro\"))\n",
    "print('Micro Recall= %.4f' % recall_score(y['Actual'], y['Predicted'], average=\"micro\")) \n",
    "\n",
    "print('\\nAccuracy: %.4f' % accuracy_score(y['Actual'], y['Predicted']))\n",
    "\n",
    "# Computes the average AUC of all possible pairwise combinations of classes. \n",
    "# Insensitive to class imbalance when average == 'macro'.\n",
    "# print(roc_auc_score(y['Actual'], y['Predicted'], multi_class='ovo', average='macro')) "
   ]
  },
  {
   "cell_type": "code",
   "execution_count": 37,
   "metadata": {},
   "outputs": [
    {
     "name": "stderr",
     "output_type": "stream",
     "text": [
      "C:\\Users\\amrut\\.conda\\envs\\fyp\\lib\\site-packages\\sklearn\\metrics\\_classification.py:1272: UndefinedMetricWarning: Precision and F-score are ill-defined and being set to 0.0 in labels with no predicted samples. Use `zero_division` parameter to control this behavior.\n",
      "  _warn_prf(average, modifier, msg_start, len(result))\n"
     ]
    },
    {
     "data": {
      "text/html": [
       "<div>\n",
       "<style scoped>\n",
       "    .dataframe tbody tr th:only-of-type {\n",
       "        vertical-align: middle;\n",
       "    }\n",
       "\n",
       "    .dataframe tbody tr th {\n",
       "        vertical-align: top;\n",
       "    }\n",
       "\n",
       "    .dataframe thead th {\n",
       "        text-align: right;\n",
       "    }\n",
       "</style>\n",
       "<table border=\"1\" class=\"dataframe\">\n",
       "  <thead>\n",
       "    <tr style=\"text-align: right;\">\n",
       "      <th></th>\n",
       "      <th>precision</th>\n",
       "      <th>recall</th>\n",
       "      <th>f1-score</th>\n",
       "      <th>support</th>\n",
       "      <th>pred</th>\n",
       "    </tr>\n",
       "  </thead>\n",
       "  <tbody>\n",
       "    <tr>\n",
       "      <th>1</th>\n",
       "      <td>0.000000</td>\n",
       "      <td>0.000000</td>\n",
       "      <td>0.000000</td>\n",
       "      <td>23.0</td>\n",
       "      <td>2.0</td>\n",
       "    </tr>\n",
       "    <tr>\n",
       "      <th>2</th>\n",
       "      <td>0.099448</td>\n",
       "      <td>0.150000</td>\n",
       "      <td>0.119601</td>\n",
       "      <td>120.0</td>\n",
       "      <td>181.0</td>\n",
       "    </tr>\n",
       "    <tr>\n",
       "      <th>10</th>\n",
       "      <td>0.000000</td>\n",
       "      <td>0.000000</td>\n",
       "      <td>0.000000</td>\n",
       "      <td>27.0</td>\n",
       "      <td>2.0</td>\n",
       "    </tr>\n",
       "    <tr>\n",
       "      <th>11</th>\n",
       "      <td>0.076923</td>\n",
       "      <td>0.032967</td>\n",
       "      <td>0.046154</td>\n",
       "      <td>91.0</td>\n",
       "      <td>39.0</td>\n",
       "    </tr>\n",
       "    <tr>\n",
       "      <th>14</th>\n",
       "      <td>0.088496</td>\n",
       "      <td>0.131579</td>\n",
       "      <td>0.105820</td>\n",
       "      <td>76.0</td>\n",
       "      <td>113.0</td>\n",
       "    </tr>\n",
       "    <tr>\n",
       "      <th>15</th>\n",
       "      <td>0.085106</td>\n",
       "      <td>0.075472</td>\n",
       "      <td>0.080000</td>\n",
       "      <td>53.0</td>\n",
       "      <td>47.0</td>\n",
       "    </tr>\n",
       "    <tr>\n",
       "      <th>17</th>\n",
       "      <td>0.045685</td>\n",
       "      <td>0.180000</td>\n",
       "      <td>0.072874</td>\n",
       "      <td>50.0</td>\n",
       "      <td>197.0</td>\n",
       "    </tr>\n",
       "    <tr>\n",
       "      <th>19</th>\n",
       "      <td>0.019608</td>\n",
       "      <td>0.206897</td>\n",
       "      <td>0.035821</td>\n",
       "      <td>29.0</td>\n",
       "      <td>306.0</td>\n",
       "    </tr>\n",
       "    <tr>\n",
       "      <th>22</th>\n",
       "      <td>0.000000</td>\n",
       "      <td>0.000000</td>\n",
       "      <td>0.000000</td>\n",
       "      <td>20.0</td>\n",
       "      <td>1.0</td>\n",
       "    </tr>\n",
       "    <tr>\n",
       "      <th>24</th>\n",
       "      <td>0.000000</td>\n",
       "      <td>0.000000</td>\n",
       "      <td>0.000000</td>\n",
       "      <td>38.0</td>\n",
       "      <td>1.0</td>\n",
       "    </tr>\n",
       "    <tr>\n",
       "      <th>26</th>\n",
       "      <td>0.000000</td>\n",
       "      <td>0.000000</td>\n",
       "      <td>0.000000</td>\n",
       "      <td>27.0</td>\n",
       "      <td>3.0</td>\n",
       "    </tr>\n",
       "    <tr>\n",
       "      <th>28</th>\n",
       "      <td>0.020000</td>\n",
       "      <td>0.041667</td>\n",
       "      <td>0.027027</td>\n",
       "      <td>24.0</td>\n",
       "      <td>50.0</td>\n",
       "    </tr>\n",
       "    <tr>\n",
       "      <th>32</th>\n",
       "      <td>0.064795</td>\n",
       "      <td>0.394737</td>\n",
       "      <td>0.111317</td>\n",
       "      <td>76.0</td>\n",
       "      <td>463.0</td>\n",
       "    </tr>\n",
       "    <tr>\n",
       "      <th>33</th>\n",
       "      <td>0.000000</td>\n",
       "      <td>0.000000</td>\n",
       "      <td>0.000000</td>\n",
       "      <td>56.0</td>\n",
       "      <td>2.0</td>\n",
       "    </tr>\n",
       "    <tr>\n",
       "      <th>36</th>\n",
       "      <td>0.000000</td>\n",
       "      <td>0.000000</td>\n",
       "      <td>0.000000</td>\n",
       "      <td>27.0</td>\n",
       "      <td>2.0</td>\n",
       "    </tr>\n",
       "    <tr>\n",
       "      <th>39</th>\n",
       "      <td>0.000000</td>\n",
       "      <td>0.000000</td>\n",
       "      <td>0.000000</td>\n",
       "      <td>25.0</td>\n",
       "      <td>1.0</td>\n",
       "    </tr>\n",
       "    <tr>\n",
       "      <th>45</th>\n",
       "      <td>0.000000</td>\n",
       "      <td>0.000000</td>\n",
       "      <td>0.000000</td>\n",
       "      <td>27.0</td>\n",
       "      <td>3.0</td>\n",
       "    </tr>\n",
       "    <tr>\n",
       "      <th>46</th>\n",
       "      <td>0.000000</td>\n",
       "      <td>0.000000</td>\n",
       "      <td>0.000000</td>\n",
       "      <td>35.0</td>\n",
       "      <td>2.0</td>\n",
       "    </tr>\n",
       "    <tr>\n",
       "      <th>avg / total</th>\n",
       "      <td>0.027157</td>\n",
       "      <td>0.057244</td>\n",
       "      <td>0.031538</td>\n",
       "      <td>824.0</td>\n",
       "      <td>824.0</td>\n",
       "    </tr>\n",
       "  </tbody>\n",
       "</table>\n",
       "</div>"
      ],
      "text/plain": [
       "             precision    recall  f1-score  support   pred\n",
       "1             0.000000  0.000000  0.000000     23.0    2.0\n",
       "2             0.099448  0.150000  0.119601    120.0  181.0\n",
       "10            0.000000  0.000000  0.000000     27.0    2.0\n",
       "11            0.076923  0.032967  0.046154     91.0   39.0\n",
       "14            0.088496  0.131579  0.105820     76.0  113.0\n",
       "15            0.085106  0.075472  0.080000     53.0   47.0\n",
       "17            0.045685  0.180000  0.072874     50.0  197.0\n",
       "19            0.019608  0.206897  0.035821     29.0  306.0\n",
       "22            0.000000  0.000000  0.000000     20.0    1.0\n",
       "24            0.000000  0.000000  0.000000     38.0    1.0\n",
       "26            0.000000  0.000000  0.000000     27.0    3.0\n",
       "28            0.020000  0.041667  0.027027     24.0   50.0\n",
       "32            0.064795  0.394737  0.111317     76.0  463.0\n",
       "33            0.000000  0.000000  0.000000     56.0    2.0\n",
       "36            0.000000  0.000000  0.000000     27.0    2.0\n",
       "39            0.000000  0.000000  0.000000     25.0    1.0\n",
       "45            0.000000  0.000000  0.000000     27.0    3.0\n",
       "46            0.000000  0.000000  0.000000     35.0    2.0\n",
       "avg / total   0.027157  0.057244  0.031538    824.0  824.0"
      ]
     },
     "metadata": {},
     "output_type": "display_data"
    }
   ],
   "source": [
    "from scipy import interp\n",
    "\n",
    "from  sklearn.metrics import precision_recall_fscore_support\n",
    "from sklearn.metrics import roc_curve, auc\n",
    "from sklearn.preprocessing import LabelBinarizer\n",
    "\n",
    "def class_report(y_true, y_pred, y_score=None, average='micro'):\n",
    "    if y_true.shape != y_pred.shape:\n",
    "        print(\"Error! y_true %s is not the same shape as y_pred %s\" % (\n",
    "              y_true.shape,\n",
    "              y_pred.shape)\n",
    "        )\n",
    "        return\n",
    "\n",
    "    lb = LabelBinarizer()\n",
    "\n",
    "    if len(y_true.shape) == 1:\n",
    "        lb.fit(y_true)\n",
    "\n",
    "    #Value counts of predictions\n",
    "    labels, cnt = np.unique(\n",
    "        y_pred,\n",
    "        return_counts=True)\n",
    "    n_classes = len(labels)\n",
    "    pred_cnt = pd.Series(cnt, index=labels)\n",
    "\n",
    "    metrics_summary = precision_recall_fscore_support(\n",
    "            y_true=y_true,\n",
    "            y_pred=y_pred,\n",
    "            labels=labels)\n",
    "\n",
    "    avg = list(precision_recall_fscore_support(\n",
    "            y_true=y_true, \n",
    "            y_pred=y_pred,\n",
    "            average='weighted'))\n",
    "\n",
    "    metrics_sum_index = ['precision', 'recall', 'f1-score', 'support']\n",
    "    class_report_df = pd.DataFrame(\n",
    "        list(metrics_summary),\n",
    "        index=metrics_sum_index,\n",
    "        columns=labels)\n",
    "\n",
    "    support = class_report_df.loc['support']\n",
    "    total = support.sum() \n",
    "    class_report_df['avg / total'] = avg[:-1] + [total]\n",
    "\n",
    "    class_report_df = class_report_df.T\n",
    "    class_report_df['pred'] = pred_cnt\n",
    "    class_report_df['pred'].iloc[-1] = total\n",
    "\n",
    "    if not (y_score is None):\n",
    "        fpr = dict()\n",
    "        tpr = dict()\n",
    "        roc_auc = dict()\n",
    "        for label_it, label in enumerate(labels):\n",
    "            fpr[label], tpr[label], _ = roc_curve(\n",
    "                (y_true == label).astype(int), \n",
    "                y_score[:, label_it])\n",
    "\n",
    "            roc_auc[label] = auc(fpr[label], tpr[label])\n",
    "\n",
    "        if average == 'micro':\n",
    "            if n_classes <= 2:\n",
    "                fpr[\"avg / total\"], tpr[\"avg / total\"], _ = roc_curve(\n",
    "                    lb.transform(y_true).ravel(), \n",
    "                    y_score[:, 1].ravel())\n",
    "            else:\n",
    "                fpr[\"avg / total\"], tpr[\"avg / total\"], _ = roc_curve(\n",
    "                        lb.transform(y_true).ravel(), \n",
    "                        y_score.ravel())\n",
    "\n",
    "            roc_auc[\"avg / total\"] = auc(\n",
    "                fpr[\"avg / total\"], \n",
    "                tpr[\"avg / total\"])\n",
    "\n",
    "        elif average == 'macro':\n",
    "            # First aggregate all false positive rates\n",
    "            all_fpr = np.unique(np.concatenate([\n",
    "                fpr[i] for i in labels]\n",
    "            ))\n",
    "\n",
    "            # Then interpolate all ROC curves at this points\n",
    "            mean_tpr = np.zeros_like(all_fpr)\n",
    "            for i in labels:\n",
    "                mean_tpr += interp(all_fpr, fpr[i], tpr[i])\n",
    "\n",
    "            # Finally average it and compute AUC\n",
    "            mean_tpr /= n_classes\n",
    "\n",
    "            fpr[\"macro\"] = all_fpr\n",
    "            tpr[\"macro\"] = mean_tpr\n",
    "\n",
    "            roc_auc[\"avg / total\"] = auc(fpr[\"macro\"], tpr[\"macro\"])\n",
    "\n",
    "        class_report_df['AUC'] = pd.Series(roc_auc)\n",
    "\n",
    "    return class_report_df\n",
    "\n",
    "report_with_auc = class_report(y_true=np.array(y['Actual']),y_pred=np.array(y['Predicted']))\n",
    "display(report_with_auc)"
   ]
  },
  {
   "cell_type": "markdown",
   "metadata": {},
   "source": [
    "## Make predictions on unseen test data (i.e. Kaggle submission)"
   ]
  },
  {
   "cell_type": "code",
   "execution_count": 40,
   "metadata": {},
   "outputs": [
    {
     "name": "stdout",
     "output_type": "stream",
     "text": [
      "Done predicting on test data\n"
     ]
    }
   ],
   "source": [
    "NUM_TEST_SEGMENTS = 1284\n",
    "\n",
    "def get_next_test_batch(f, batch_size=1):    \n",
    "    raw_segments = []\n",
    "    \n",
    "    is_end_reached = False\n",
    "    \n",
    "    num_segments = 0\n",
    "    while num_segments < batch_size:\n",
    "        try:\n",
    "            segment = pickle.load(f)\n",
    "            \n",
    "            raw_segments.append(segment)\n",
    "            num_segments += 1\n",
    "        except (EOFError):\n",
    "            is_end_reached = True\n",
    "            break\n",
    "\n",
    "    padded_segments = transform_input(raw_segments)\n",
    "    segments = torch.stack(padded_segments).double()\n",
    "    \n",
    "    return segments, is_end_reached\n",
    "\n",
    "\n",
    "model.eval()\n",
    "\n",
    "try:\n",
    "    test_f.close()    \n",
    "except(NameError):\n",
    "    ;   \n",
    "test_f = open(TEST_DATA, 'rb')\n",
    "\n",
    "y_pred = {'Id': np.arange(NUM_TEST_SEGMENTS), 'Category': []}\n",
    "\n",
    "is_end_reached = False\n",
    "while not is_end_reached:\n",
    "    segments, is_end_reached = get_next_test_batch(test_f, 50)\n",
    "\n",
    "    outputs = model(segments)\n",
    "    _, predicted = torch.max(outputs.data, 1)\n",
    "    \n",
    "    y_pred['Category'].extend(predicted.tolist())\n",
    "\n",
    "y_pred_df = pd.DataFrame(y_pred)\n",
    "path = RESULTS_DIR + model_time + \"/predictions_submission.csv\"\n",
    "y_pred_df.to_csv(path, encoding='utf-8', index=False)\n",
    "\n",
    "print('Done predicting on test data')"
   ]
  }
 ],
 "metadata": {
  "colab": {
   "name": "CS5242.ipynb",
   "provenance": []
  },
  "kernelspec": {
   "display_name": "Python 3",
   "language": "python",
   "name": "python3"
  },
  "language_info": {
   "codemirror_mode": {
    "name": "ipython",
    "version": 3
   },
   "file_extension": ".py",
   "mimetype": "text/x-python",
   "name": "python",
   "nbconvert_exporter": "python",
   "pygments_lexer": "ipython3",
   "version": "3.7.6"
  }
 },
 "nbformat": 4,
 "nbformat_minor": 1
}
