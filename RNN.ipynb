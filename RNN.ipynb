{
  "nbformat": 4,
  "nbformat_minor": 0,
  "metadata": {
    "colab": {
      "name": "CS5242.ipynb",
      "provenance": []
    },
    "kernelspec": {
      "name": "python3",
      "display_name": "Python 3"
    }
  },
  "cells": [
    {
      "cell_type": "code",
      "metadata": {
        "id": "JhBRzr4cAfMk",
        "colab_type": "code",
        "colab": {}
      },
      "source": [
        "\"\"\" Paste the function in the console to keep Colab active to prevent timeout.\n",
        "\n",
        "function ClickConnect(){console.log(\"Working\");document.querySelector(\"colab-toolbar-button#connect\").click()}setInterval(ClickConnect,60000)\n",
        "\n",
        "function ClickConnect(){console.log(\"Working\");document.querySelector(\"#private-outputs-warning\").click()}setInterval(ClickConnect,60000)\n",
        "\"\"\""
      ],
      "execution_count": 0,
      "outputs": []
    },
    {
      "cell_type": "code",
      "metadata": {
        "id": "JRgz3AuaStp4",
        "colab_type": "code",
        "outputId": "b445678a-8c4e-4956-97bf-5a812d08fcab",
        "colab": {
          "base_uri": "https://localhost:8080/",
          "height": 121
        }
      },
      "source": [
        "from google.colab import drive\n",
        "drive.mount('/content/drive/', force_remount=False)"
      ],
      "execution_count": 1,
      "outputs": [
        {
          "output_type": "stream",
          "text": [
            "Go to this URL in a browser: https://accounts.google.com/o/oauth2/auth?client_id=947318989803-6bn6qk8qdgf4n4g3pfee6491hc0brc4i.apps.googleusercontent.com&redirect_uri=urn%3aietf%3awg%3aoauth%3a2.0%3aoob&response_type=code&scope=email%20https%3a%2f%2fwww.googleapis.com%2fauth%2fdocs.test%20https%3a%2f%2fwww.googleapis.com%2fauth%2fdrive%20https%3a%2f%2fwww.googleapis.com%2fauth%2fdrive.photos.readonly%20https%3a%2f%2fwww.googleapis.com%2fauth%2fpeopleapi.readonly\n",
            "\n",
            "Enter your authorization code:\n",
            "··········\n",
            "Mounted at /content/drive/\n"
          ],
          "name": "stdout"
        }
      ]
    },
    {
      "cell_type": "code",
      "metadata": {
        "id": "VYSjdHlNTmID",
        "colab_type": "code",
        "colab": {}
      },
      "source": [
        "# !ls \"/content/drive/My Drive\"\n",
        "\n",
        "# data_breakfast_test_stream.p\n",
        "# data_breakfast_train_stream.p"
      ],
      "execution_count": 0,
      "outputs": []
    },
    {
      "cell_type": "code",
      "metadata": {
        "id": "6P5xkIhbA4pA",
        "colab_type": "code",
        "colab": {}
      },
      "source": [
        "import _pickle as pickle\n",
        "\n",
        "import torch\n",
        "from torch.utils.data import Dataset, DataLoader\n",
        "from torchvision.datasets import DatasetFolder"
      ],
      "execution_count": 0,
      "outputs": []
    },
    {
      "cell_type": "markdown",
      "metadata": {
        "id": "Pr7VTg_TJAUN",
        "colab_type": "text"
      },
      "source": [
        "## Loading from training data directory (supports batch mode)"
      ]
    },
    {
      "cell_type": "code",
      "metadata": {
        "id": "fdi9dI_fA8oO",
        "colab_type": "code",
        "colab": {}
      },
      "source": [
        "TRAIN_DIR = './training_data/'"
      ],
      "execution_count": 0,
      "outputs": []
    },
    {
      "cell_type": "code",
      "metadata": {
        "id": "-904J2zJBARp",
        "colab_type": "code",
        "colab": {}
      },
      "source": [
        "from torch.utils.data import Dataset, DataLoader\n",
        "from torchvision.datasets import DatasetFolder\n",
        "\n",
        "def pickle_loader(input_path):\n",
        "    f = open(input_path, 'rb')\n",
        "    data = pickle.load(f)\n",
        "\n",
        "    return { 'segment': data[0], 'label': data[1] }\n",
        "#     return data[0], data[1]\n",
        "\n",
        "\n",
        "# TODO: decide on what transformation to perform\n",
        "def transform_input(input):\n",
        "    \"\"\"\n",
        "    Transform input so that all input samples in the batch have same size.\n",
        "    Note: this is not required if the batch size is 1 for the data loader.\n",
        "    \"\"\"\n",
        "    num_frames = 3\n",
        "    \n",
        "    return { 'segment': input['segment'][:num_frames], 'label': input['label'] }\n",
        "#     return input[:num_frames]"
      ],
      "execution_count": 0,
      "outputs": []
    },
    {
      "cell_type": "code",
      "metadata": {
        "id": "E8-STx19BJnm",
        "colab_type": "code",
        "colab": {}
      },
      "source": [
        "# https://pytorch.org/docs/stable/torchvision/datasets.html#datasetfolder\n",
        "# Directory should be 'TRAIN_DIR/data/*.doc'\n",
        "train_data = DatasetFolder(root=TRAIN_DIR, \n",
        "                           loader=pickle_loader, \n",
        "                           extensions='.doc', \n",
        "                           transform=transform_input\n",
        "                          )\n",
        "\n",
        "train_loader = torch.utils.data.DataLoader(dataset=train_data,\n",
        "                                           batch_size=4,\n",
        "                                           num_workers=0,\n",
        "                                           shuffle=False\n",
        "                                          )\n",
        "\n",
        "for batch_idx, batch_data in enumerate(train_loader):\n",
        "    input_samples = batch_data[0]['segment'] # Same length as batch size\n",
        "    input_labels = batch_data[0]['label']\n",
        "\n",
        "#     x = Variable(input_samples)\n",
        "#     out = model(x)\n",
        "# https://stanford.edu/~shervine/blog/pytorch-how-to-generate-data-parallel"
      ],
      "execution_count": 0,
      "outputs": []
    },
    {
      "cell_type": "markdown",
      "metadata": {
        "id": "6faLsCwUI7CD",
        "colab_type": "text"
      },
      "source": [
        "## Loading from single training data file"
      ]
    },
    {
      "cell_type": "code",
      "metadata": {
        "id": "JYUwZwX8Kroq",
        "colab_type": "code",
        "colab": {}
      },
      "source": [
        "DATA_DIR = \"/content/drive/My Drive/\"\n",
        "\n",
        "TRAINING_DATA = DATA_DIR + \"training_data.dat\"\n",
        "VALIDATION_DATA = DATA_DIR + \"data_breakfast_validation_stream.p\"\n",
        "TEST_DATA = DATA_DIR + \"data_breakfast_test_stream.p\""
      ],
      "execution_count": 0,
      "outputs": []
    },
    {
      "cell_type": "code",
      "metadata": {
        "id": "vZNwYF7BI5SS",
        "colab_type": "code",
        "colab": {}
      },
      "source": [
        "f = open(TRAINING_DATA, 'rb')\n",
        "\n",
        "count = 0\n",
        "while 1:\n",
        "    try:\n",
        "        (segment, label) = pickle.load(f)\n",
        "        \n",
        "        count += 1\n",
        "#         print(count)\n",
        "#         print(len(segment))\n",
        "    except (EOFError):\n",
        "        break\n",
        "\n",
        "f.close()"
      ],
      "execution_count": 0,
      "outputs": []
    }
  ]
}